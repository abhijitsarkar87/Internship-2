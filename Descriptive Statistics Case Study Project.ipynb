{
 "cells": [
  {
   "cell_type": "markdown",
   "id": "acf3c092",
   "metadata": {},
   "source": [
    "## Introduction\n",
    "\n",
    "In this excericse, you will perform the following tasks:\n",
    "\n",
    " 1. Load and study the data.\n",
    " 2. Visualise the distributions of ratings and compensations\n",
    " 3. Subset the data based on thresholds."
   ]
  },
  {
   "cell_type": "markdown",
   "id": "42a8998e",
   "metadata": {},
   "source": [
    "# Task 1- Load and study the data\n",
    "\n",
    "Load the data and study its features such as:\n",
    "\n",
    "  1. The number of employees\n",
    "  2. The number of features\n",
    "  3. The types of features"
   ]
  },
  {
   "cell_type": "code",
   "execution_count": 3,
   "id": "27d5f30c",
   "metadata": {},
   "outputs": [],
   "source": [
    "# loading important library\n",
    "\n",
    "# for data manipulation\n",
    "import pandas as pd\n",
    "import numpy as np\n",
    "\n",
    "# for visualization\n",
    "import seaborn as sns\n",
    "import matplotlib.pyplot as plt\n",
    "%matplotlib inline\n",
    "\n",
    "import warnings\n",
    "warnings.filterwarnings('ignore')"
   ]
  },
  {
   "cell_type": "code",
   "execution_count": 5,
   "id": "c160fd07",
   "metadata": {},
   "outputs": [
    {
     "name": "stdout",
     "output_type": "stream",
     "text": [
      "Type:  <class 'pandas.core.frame.DataFrame'>\n"
     ]
    }
   ],
   "source": [
    "# loading the dataset in pandas data frame\n",
    "df=pd.read_csv(\"Employee Dataset.csv\")\n",
    "\n",
    "print(\"Type: \",type(df))"
   ]
  },
  {
   "cell_type": "code",
   "execution_count": 6,
   "id": "d90fd71c",
   "metadata": {},
   "outputs": [
    {
     "data": {
      "text/html": [
       "<div>\n",
       "<style scoped>\n",
       "    .dataframe tbody tr th:only-of-type {\n",
       "        vertical-align: middle;\n",
       "    }\n",
       "\n",
       "    .dataframe tbody tr th {\n",
       "        vertical-align: top;\n",
       "    }\n",
       "\n",
       "    .dataframe thead th {\n",
       "        text-align: right;\n",
       "    }\n",
       "</style>\n",
       "<table border=\"1\" class=\"dataframe\">\n",
       "  <thead>\n",
       "    <tr style=\"text-align: right;\">\n",
       "      <th></th>\n",
       "      <th>id</th>\n",
       "      <th>groups</th>\n",
       "      <th>age</th>\n",
       "      <th>healthy_eating</th>\n",
       "      <th>active_lifestyle</th>\n",
       "      <th>salary</th>\n",
       "    </tr>\n",
       "  </thead>\n",
       "  <tbody>\n",
       "    <tr>\n",
       "      <th>0</th>\n",
       "      <td>0</td>\n",
       "      <td>A</td>\n",
       "      <td>36</td>\n",
       "      <td>5</td>\n",
       "      <td>5</td>\n",
       "      <td>2297</td>\n",
       "    </tr>\n",
       "    <tr>\n",
       "      <th>1</th>\n",
       "      <td>1</td>\n",
       "      <td>A</td>\n",
       "      <td>26</td>\n",
       "      <td>3</td>\n",
       "      <td>5</td>\n",
       "      <td>1134</td>\n",
       "    </tr>\n",
       "    <tr>\n",
       "      <th>2</th>\n",
       "      <td>2</td>\n",
       "      <td>A</td>\n",
       "      <td>61</td>\n",
       "      <td>8</td>\n",
       "      <td>1</td>\n",
       "      <td>4969</td>\n",
       "    </tr>\n",
       "    <tr>\n",
       "      <th>3</th>\n",
       "      <td>3</td>\n",
       "      <td>O</td>\n",
       "      <td>24</td>\n",
       "      <td>3</td>\n",
       "      <td>6</td>\n",
       "      <td>902</td>\n",
       "    </tr>\n",
       "    <tr>\n",
       "      <th>4</th>\n",
       "      <td>4</td>\n",
       "      <td>O</td>\n",
       "      <td>39</td>\n",
       "      <td>6</td>\n",
       "      <td>2</td>\n",
       "      <td>3574</td>\n",
       "    </tr>\n",
       "  </tbody>\n",
       "</table>\n",
       "</div>"
      ],
      "text/plain": [
       "   id groups  age  healthy_eating  active_lifestyle  salary\n",
       "0   0      A   36               5                 5    2297\n",
       "1   1      A   26               3                 5    1134\n",
       "2   2      A   61               8                 1    4969\n",
       "3   3      O   24               3                 6     902\n",
       "4   4      O   39               6                 2    3574"
      ]
     },
     "execution_count": 6,
     "metadata": {},
     "output_type": "execute_result"
    }
   ],
   "source": [
    "# brief look on data set\n",
    "df.head(5)"
   ]
  },
  {
   "cell_type": "code",
   "execution_count": 7,
   "id": "87a83797",
   "metadata": {},
   "outputs": [
    {
     "name": "stdout",
     "output_type": "stream",
     "text": [
      "Shape:  (50, 6)\n",
      "Dimension  2\n"
     ]
    }
   ],
   "source": [
    "# Checking dimension and shape\n",
    "print(\"Shape: \",df.shape)\n",
    "print(\"Dimension \",df.ndim)"
   ]
  },
  {
   "cell_type": "code",
   "execution_count": 10,
   "id": "d24882e9",
   "metadata": {},
   "outputs": [
    {
     "data": {
      "text/plain": [
       "Index(['id', 'groups', 'age', 'healthy_eating', 'active_lifestyle', 'salary'], dtype='object')"
      ]
     },
     "execution_count": 10,
     "metadata": {},
     "output_type": "execute_result"
    }
   ],
   "source": [
    "# checking columns\n",
    "df.columns"
   ]
  },
  {
   "cell_type": "code",
   "execution_count": 11,
   "id": "4c0c0e81",
   "metadata": {},
   "outputs": [
    {
     "name": "stdout",
     "output_type": "stream",
     "text": [
      "<class 'pandas.core.frame.DataFrame'>\n",
      "RangeIndex: 50 entries, 0 to 49\n",
      "Data columns (total 6 columns):\n",
      " #   Column            Non-Null Count  Dtype \n",
      "---  ------            --------------  ----- \n",
      " 0   id                50 non-null     int64 \n",
      " 1   groups            50 non-null     object\n",
      " 2   age               50 non-null     int64 \n",
      " 3   healthy_eating    50 non-null     int64 \n",
      " 4   active_lifestyle  50 non-null     int64 \n",
      " 5   salary            50 non-null     int64 \n",
      "dtypes: int64(5), object(1)\n",
      "memory usage: 2.5+ KB\n"
     ]
    }
   ],
   "source": [
    "# checking basic info about the data set\n",
    "df.info()"
   ]
  },
  {
   "cell_type": "markdown",
   "id": "0795d690",
   "metadata": {},
   "source": [
    "### Observation From Task 1:\n",
    "\n",
    "There are 50 rows and 5 columns in the dataset. Each row contains the employee specifies of a certain employee in the company\n",
    "\n",
    "1. id: Column shows id of the employee\n",
    "2. Their respective group and age\n",
    "3. Their healthy eating habits\n",
    "4. their active life style\n",
    "5. their salary\n",
    "\n",
    "There are 5 integer columns and 1 object column\n"
   ]
  },
  {
   "cell_type": "markdown",
   "id": "6e9ac113",
   "metadata": {},
   "source": [
    "## Task 2: Visualise the distributions of rating and compensation\n",
    "\n",
    "We will now visualise the distributions of employee ratings and compensations\n",
    "We will create the following plots.\n",
    "\n",
    "- A scatter plot of employee age and employee salary, healthy_eating and active_lifestyle, healthy_eating and salary\n",
    "- A count plot of groups\n",
    "- A histogram of employee salary."
   ]
  },
  {
   "cell_type": "code",
   "execution_count": 20,
   "id": "73912fd8",
   "metadata": {},
   "outputs": [
    {
     "data": {
      "image/png": "[encoded data removed]",
      "text/plain": [
       "<Figure size 1000x500 with 1 Axes>"
      ]
     },
     "metadata": {},
     "output_type": "display_data"
    }
   ],
   "source": [
    "# create scatter plot of age and employee salary\n",
    "\n",
    "plt.figure(figsize=(10,5))\n",
    "sns.scatterplot(data=df,x='age', y='salary',color='blue',edgecolor='black',alpha=0.9)\n",
    "plt.title(\"Scatter Plot of Employee Age v/s Salary\")\n",
    "plt.xlabel(\"Employee Age\")\n",
    "plt.ylabel(\"Employee Salary\")\n",
    "plt.show()"
   ]
  },
  {
   "cell_type": "markdown",
   "id": "03ec7ac0",
   "metadata": {},
   "source": [
    "### Observation:\n",
    "\n",
    "We observe that in general, there is a relationship between age and salary of employee.\n",
    "We can see clearly that as the age increases the salary of employee also increases but we can few outliers in 50's and 60's"
   ]
  },
  {
   "cell_type": "code",
   "execution_count": 24,
   "id": "6aa4ee9a",
   "metadata": {},
   "outputs": [
    {
     "data": {
      "image/png": "[encoded data removed]",
      "text/plain": [
       "<Figure size 600x400 with 1 Axes>"
      ]
     },
     "metadata": {},
     "output_type": "display_data"
    }
   ],
   "source": [
    "### Healthy_eating and active_lifestyle\n",
    "\n",
    "plt.figure(figsize=(6,4))\n",
    "\n",
    "sns.scatterplot(data=df,x='healthy_eating',y='active_lifestyle',color='red',edgecolor='linen',alpha=0.8)\n",
    "\n",
    "plt.title(\"Employee Healthy_Eating v/s Active_Lifestyle\")\n",
    "plt.xlabel(\"Employee Healthy Eating\")\n",
    "plt.ylabel(\"Employee Active Lifestyle\")\n",
    "plt.show()"
   ]
  },
  {
   "cell_type": "markdown",
   "id": "63de0bcb",
   "metadata": {},
   "source": [
    "### Observation:\n",
    "\n",
    "We observe that in general, there is a relationship between healthy_eating and active lifestyle\n",
    "As healthy eacting increases the active life increases."
   ]
  },
  {
   "cell_type": "markdown",
   "id": "1cf9a2d8",
   "metadata": {},
   "source": [
    "### Healthy_eating vs salary\n"
   ]
  },
  {
   "cell_type": "code",
   "execution_count": 29,
   "id": "d40ed374",
   "metadata": {},
   "outputs": [
    {
     "data": {
      "image/png": "[encoded data removed]",
      "text/plain": [
       "<Figure size 800x500 with 1 Axes>"
      ]
     },
     "metadata": {},
     "output_type": "display_data"
    }
   ],
   "source": [
    "plt.figure(figsize=(8,5))\n",
    "sns.scatterplot(data=df,x='healthy_eating',y='salary',edgecolor='linen',alpha=0.8)\n",
    "plt.title(\"Scatter Plot Healthy_eating v/s salary\")\n",
    "plt.xlabel(\"Employee Healthy Eating\")\n",
    "plt.ylabel(\"Employee Salary\")\n",
    "plt.show()"
   ]
  },
  {
   "cell_type": "markdown",
   "id": "a8099ed4",
   "metadata": {},
   "source": [
    "### Observation\n",
    "\n",
    "We observation that in general, that there is a positivly correlated with healthy eating vs salary. Somewhere we see an outliers in it."
   ]
  },
  {
   "cell_type": "code",
   "execution_count": 34,
   "id": "2440f793",
   "metadata": {},
   "outputs": [
    {
     "data": {
      "image/png": "[encoded data removed]",
      "text/plain": [
       "<Figure size 800x500 with 1 Axes>"
      ]
     },
     "metadata": {},
     "output_type": "display_data"
    }
   ],
   "source": [
    "# create a count plot of the group feature.\n",
    "\n",
    "plt.figure(figsize=(8,5))\n",
    "sns.countplot(data=df,x='groups',edgecolor='brown')\n",
    "plt.title(\"Count plot of groups\")\n",
    "plt.xlabel(\"Employee Blood Groups\")\n",
    "plt.ylabel(\"employee Counts\")\n",
    "plt.show()"
   ]
  },
  {
   "cell_type": "markdown",
   "id": "69eb9aec",
   "metadata": {},
   "source": [
    "### Observation\n",
    "\n",
    "We can see that maximum employee having blood group as 'A', followed by 'O'. A having maximum frequency"
   ]
  },
  {
   "cell_type": "markdown",
   "id": "3f15663d",
   "metadata": {},
   "source": [
    "### Histogram of the 'Salary' Feature"
   ]
  },
  {
   "cell_type": "code",
   "execution_count": 40,
   "id": "6b257fc4",
   "metadata": {},
   "outputs": [
    {
     "data": {
      "image/png": "[encoded data removed]",
      "text/plain": [
       "<Figure size 800x600 with 1 Axes>"
      ]
     },
     "metadata": {},
     "output_type": "display_data"
    }
   ],
   "source": [
    "plt.figure(figsize=(8,6))\n",
    "sns.histplot(data=df,x='salary',color='orange',edgecolor='brown',bins=10,alpha=0.9)\n",
    "plt.title(\"EMPLOYEE SALARY\")\n",
    "plt.xlabel(\"Employee Salary\")\n",
    "plt.ylabel(\"Count\")\n",
    "plt.show()"
   ]
  },
  {
   "cell_type": "markdown",
   "id": "b81b8b65",
   "metadata": {},
   "source": [
    "### Observtions:\n",
    "\n",
    "We can see that salary distribution is not uniform, which is not necessarily a discrepancy. But we do observe that there are employees with salary on either extremities of the histogram. Based on the histogram, we can see that the count of highest earning employee is very less."
   ]
  },
  {
   "cell_type": "markdown",
   "id": "faf758ee",
   "metadata": {},
   "source": [
    "## Observations from Task 2\n",
    "\n",
    "1. Generally, as the employee's age increase, there is an increase in the employee salary.\n",
    "2. Generally, as the employee's healthy_eating habit increases, there is an increase in the employee salary.\n",
    "3. However, the employee salary values are more spread out.\n",
    "4. An employee of health_eating greater than 8 can be taken as 8 only.\n",
    "5. An employee salary less than 1000 can be considered as a lower salary."
   ]
  },
  {
   "cell_type": "markdown",
   "id": "05794abb",
   "metadata": {},
   "source": [
    "## Task 3. Subset the data based on thresholds\n",
    "\n",
    "We will now subset the original data frame based on the following conditions:\n",
    "\n",
    "   - Employees with healthy_eating greater than 8\n",
    "   - Employees with Salary less than 1000\n",
    "   - Employees with healthy_eating greater than 8 with salary less than 1000\n"
   ]
  },
  {
   "cell_type": "code",
   "execution_count": 41,
   "id": "77d95e3e",
   "metadata": {},
   "outputs": [
    {
     "data": {
      "text/html": [
       "<div>\n",
       "<style scoped>\n",
       "    .dataframe tbody tr th:only-of-type {\n",
       "        vertical-align: middle;\n",
       "    }\n",
       "\n",
       "    .dataframe tbody tr th {\n",
       "        vertical-align: top;\n",
       "    }\n",
       "\n",
       "    .dataframe thead th {\n",
       "        text-align: right;\n",
       "    }\n",
       "</style>\n",
       "<table border=\"1\" class=\"dataframe\">\n",
       "  <thead>\n",
       "    <tr style=\"text-align: right;\">\n",
       "      <th></th>\n",
       "      <th>id</th>\n",
       "      <th>groups</th>\n",
       "      <th>age</th>\n",
       "      <th>healthy_eating</th>\n",
       "      <th>active_lifestyle</th>\n",
       "      <th>salary</th>\n",
       "    </tr>\n",
       "  </thead>\n",
       "  <tbody>\n",
       "    <tr>\n",
       "      <th>26</th>\n",
       "      <td>26</td>\n",
       "      <td>A</td>\n",
       "      <td>62</td>\n",
       "      <td>9</td>\n",
       "      <td>6</td>\n",
       "      <td>700</td>\n",
       "    </tr>\n",
       "  </tbody>\n",
       "</table>\n",
       "</div>"
      ],
      "text/plain": [
       "    id groups  age  healthy_eating  active_lifestyle  salary\n",
       "26  26      A   62               9                 6     700"
      ]
     },
     "execution_count": 41,
     "metadata": {},
     "output_type": "execute_result"
    }
   ],
   "source": [
    "# Employee Healthy_eating is greater than 8\n",
    "sub1=df[df['healthy_eating']>8]\n",
    "sub1"
   ]
  },
  {
   "cell_type": "code",
   "execution_count": 43,
   "id": "243451ad",
   "metadata": {},
   "outputs": [
    {
     "data": {
      "text/html": [
       "<div>\n",
       "<style scoped>\n",
       "    .dataframe tbody tr th:only-of-type {\n",
       "        vertical-align: middle;\n",
       "    }\n",
       "\n",
       "    .dataframe tbody tr th {\n",
       "        vertical-align: top;\n",
       "    }\n",
       "\n",
       "    .dataframe thead th {\n",
       "        text-align: right;\n",
       "    }\n",
       "</style>\n",
       "<table border=\"1\" class=\"dataframe\">\n",
       "  <thead>\n",
       "    <tr style=\"text-align: right;\">\n",
       "      <th></th>\n",
       "      <th>id</th>\n",
       "      <th>groups</th>\n",
       "      <th>age</th>\n",
       "      <th>healthy_eating</th>\n",
       "      <th>active_lifestyle</th>\n",
       "      <th>salary</th>\n",
       "    </tr>\n",
       "  </thead>\n",
       "  <tbody>\n",
       "    <tr>\n",
       "      <th>3</th>\n",
       "      <td>3</td>\n",
       "      <td>O</td>\n",
       "      <td>24</td>\n",
       "      <td>3</td>\n",
       "      <td>6</td>\n",
       "      <td>902</td>\n",
       "    </tr>\n",
       "    <tr>\n",
       "      <th>15</th>\n",
       "      <td>15</td>\n",
       "      <td>B</td>\n",
       "      <td>26</td>\n",
       "      <td>3</td>\n",
       "      <td>8</td>\n",
       "      <td>662</td>\n",
       "    </tr>\n",
       "    <tr>\n",
       "      <th>18</th>\n",
       "      <td>18</td>\n",
       "      <td>A</td>\n",
       "      <td>27</td>\n",
       "      <td>2</td>\n",
       "      <td>6</td>\n",
       "      <td>779</td>\n",
       "    </tr>\n",
       "    <tr>\n",
       "      <th>26</th>\n",
       "      <td>26</td>\n",
       "      <td>A</td>\n",
       "      <td>62</td>\n",
       "      <td>9</td>\n",
       "      <td>6</td>\n",
       "      <td>700</td>\n",
       "    </tr>\n",
       "    <tr>\n",
       "      <th>32</th>\n",
       "      <td>32</td>\n",
       "      <td>A</td>\n",
       "      <td>22</td>\n",
       "      <td>3</td>\n",
       "      <td>8</td>\n",
       "      <td>662</td>\n",
       "    </tr>\n",
       "    <tr>\n",
       "      <th>35</th>\n",
       "      <td>35</td>\n",
       "      <td>O</td>\n",
       "      <td>27</td>\n",
       "      <td>2</td>\n",
       "      <td>4</td>\n",
       "      <td>785</td>\n",
       "    </tr>\n",
       "    <tr>\n",
       "      <th>38</th>\n",
       "      <td>38</td>\n",
       "      <td>AB</td>\n",
       "      <td>26</td>\n",
       "      <td>3</td>\n",
       "      <td>7</td>\n",
       "      <td>670</td>\n",
       "    </tr>\n",
       "    <tr>\n",
       "      <th>39</th>\n",
       "      <td>39</td>\n",
       "      <td>B</td>\n",
       "      <td>29</td>\n",
       "      <td>2</td>\n",
       "      <td>6</td>\n",
       "      <td>779</td>\n",
       "    </tr>\n",
       "    <tr>\n",
       "      <th>43</th>\n",
       "      <td>43</td>\n",
       "      <td>O</td>\n",
       "      <td>23</td>\n",
       "      <td>4</td>\n",
       "      <td>10</td>\n",
       "      <td>556</td>\n",
       "    </tr>\n",
       "  </tbody>\n",
       "</table>\n",
       "</div>"
      ],
      "text/plain": [
       "    id groups  age  healthy_eating  active_lifestyle  salary\n",
       "3    3      O   24               3                 6     902\n",
       "15  15      B   26               3                 8     662\n",
       "18  18      A   27               2                 6     779\n",
       "26  26      A   62               9                 6     700\n",
       "32  32      A   22               3                 8     662\n",
       "35  35      O   27               2                 4     785\n",
       "38  38     AB   26               3                 7     670\n",
       "39  39      B   29               2                 6     779\n",
       "43  43      O   23               4                10     556"
      ]
     },
     "execution_count": 43,
     "metadata": {},
     "output_type": "execute_result"
    }
   ],
   "source": [
    "# here salary less than 100\n",
    "sub2=df[df['salary']<1000]\n",
    "sub2"
   ]
  },
  {
   "cell_type": "code",
   "execution_count": 44,
   "id": "3b2a213c",
   "metadata": {},
   "outputs": [
    {
     "data": {
      "text/html": [
       "<div>\n",
       "<style scoped>\n",
       "    .dataframe tbody tr th:only-of-type {\n",
       "        vertical-align: middle;\n",
       "    }\n",
       "\n",
       "    .dataframe tbody tr th {\n",
       "        vertical-align: top;\n",
       "    }\n",
       "\n",
       "    .dataframe thead th {\n",
       "        text-align: right;\n",
       "    }\n",
       "</style>\n",
       "<table border=\"1\" class=\"dataframe\">\n",
       "  <thead>\n",
       "    <tr style=\"text-align: right;\">\n",
       "      <th></th>\n",
       "      <th>id</th>\n",
       "      <th>groups</th>\n",
       "      <th>age</th>\n",
       "      <th>healthy_eating</th>\n",
       "      <th>active_lifestyle</th>\n",
       "      <th>salary</th>\n",
       "    </tr>\n",
       "  </thead>\n",
       "  <tbody>\n",
       "    <tr>\n",
       "      <th>26</th>\n",
       "      <td>26</td>\n",
       "      <td>A</td>\n",
       "      <td>62</td>\n",
       "      <td>9</td>\n",
       "      <td>6</td>\n",
       "      <td>700</td>\n",
       "    </tr>\n",
       "  </tbody>\n",
       "</table>\n",
       "</div>"
      ],
      "text/plain": [
       "    id groups  age  healthy_eating  active_lifestyle  salary\n",
       "26  26      A   62               9                 6     700"
      ]
     },
     "execution_count": 44,
     "metadata": {},
     "output_type": "execute_result"
    }
   ],
   "source": [
    "# Employees with healthy eating greater than 8 and with salary less than 1000\n",
    "sub=df[(df['healthy_eating']>8)&(df['salary']<1000)]\n",
    "sub\n"
   ]
  },
  {
   "cell_type": "markdown",
   "id": "233a660e",
   "metadata": {},
   "source": [
    "### Observation:\n",
    "\n",
    "1. The only employee facing a discrepency in salary as compared to healthy_eating is employee who is having id=26\n",
    "2. The employee with id having 26 has a salary of 700 "
   ]
  },
  {
   "cell_type": "markdown",
   "id": "96934879",
   "metadata": {},
   "source": [
    "# Final Conclusion\n",
    "\n",
    "\n",
    "From the given data, we can use simple visualizations to get a sense of how data are distributed\n",
    "We can conduct preliminary analyses simple by subsetting data sets using well thought out thresholds and conditions."
   ]
  },
  {
   "cell_type": "code",
   "execution_count": null,
   "id": "18445cb1",
   "metadata": {},
   "outputs": [],
   "source": []
  }
 ],
 "metadata": {
  "kernelspec": {
   "display_name": "Python 3 (ipykernel)",
   "language": "python",
   "name": "python3"
  },
  "language_info": {
   "codemirror_mode": {
    "name": "ipython",
    "version": 3
   },
   "file_extension": ".py",
   "mimetype": "text/x-python",
   "name": "python",
   "nbconvert_exporter": "python",
   "pygments_lexer": "ipython3",
   "version": "3.11.4"
  }
 },
 "nbformat": 4,
 "nbformat_minor": 5
}
