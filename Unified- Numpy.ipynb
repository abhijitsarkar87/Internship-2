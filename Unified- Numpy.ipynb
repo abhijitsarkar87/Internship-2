{
 "cells": [
  {
   "cell_type": "markdown",
   "id": "d32fc68d",
   "metadata": {},
   "source": [
    "# Numpy\n",
    "\n",
    "- Based on Numerical "
   ]
  },
  {
   "cell_type": "code",
   "execution_count": 1,
   "id": "52b08cb6",
   "metadata": {},
   "outputs": [],
   "source": [
    "import numpy as np"
   ]
  },
  {
   "cell_type": "code",
   "execution_count": 2,
   "id": "5dc7b7db",
   "metadata": {},
   "outputs": [
    {
     "data": {
      "text/plain": [
       "array([ 1,  2,  3,  4,  5,  6,  7,  8,  9, 10, 11, 12])"
      ]
     },
     "execution_count": 2,
     "metadata": {},
     "output_type": "execute_result"
    }
   ],
   "source": [
    "arr=np.array([1,2,3,4,5,6,7,8,9,10,11,12])\n",
    "arr"
   ]
  },
  {
   "cell_type": "code",
   "execution_count": 4,
   "id": "7f8e8afc",
   "metadata": {},
   "outputs": [
    {
     "data": {
      "text/plain": [
       "array([[ 1,  2,  3,  4,  5,  6],\n",
       "       [ 7,  8,  9, 10, 11, 12]])"
      ]
     },
     "execution_count": 4,
     "metadata": {},
     "output_type": "execute_result"
    }
   ],
   "source": [
    "arr.reshape(2,6)"
   ]
  },
  {
   "cell_type": "code",
   "execution_count": 5,
   "id": "427940fb",
   "metadata": {},
   "outputs": [
    {
     "data": {
      "text/plain": [
       "array([[ 1,  2,  3],\n",
       "       [ 4,  5,  6],\n",
       "       [ 7,  8,  9],\n",
       "       [10, 11, 12]])"
      ]
     },
     "execution_count": 5,
     "metadata": {},
     "output_type": "execute_result"
    }
   ],
   "source": [
    "arr.reshape(4,3) # rows and column"
   ]
  },
  {
   "cell_type": "code",
   "execution_count": 6,
   "id": "6ea4fe1f",
   "metadata": {},
   "outputs": [
    {
     "data": {
      "text/plain": [
       "array([[[ 1,  2],\n",
       "        [ 3,  4],\n",
       "        [ 5,  6]],\n",
       "\n",
       "       [[ 7,  8],\n",
       "        [ 9, 10],\n",
       "        [11, 12]]])"
      ]
     },
     "execution_count": 6,
     "metadata": {},
     "output_type": "execute_result"
    }
   ],
   "source": [
    "arr.reshape(2,3,2)"
   ]
  },
  {
   "cell_type": "markdown",
   "id": "25303c12",
   "metadata": {},
   "source": [
    "# array indexing:"
   ]
  },
  {
   "cell_type": "code",
   "execution_count": 11,
   "id": "81bf4c0b",
   "metadata": {},
   "outputs": [
    {
     "data": {
      "text/plain": [
       "1"
      ]
     },
     "execution_count": 11,
     "metadata": {},
     "output_type": "execute_result"
    }
   ],
   "source": [
    "arr=np.array([1,2,3,4])\n",
    "arr[0]"
   ]
  },
  {
   "cell_type": "code",
   "execution_count": 8,
   "id": "c940bb66",
   "metadata": {},
   "outputs": [
    {
     "data": {
      "text/plain": [
       "2"
      ]
     },
     "execution_count": 8,
     "metadata": {},
     "output_type": "execute_result"
    }
   ],
   "source": [
    "arr[1]"
   ]
  },
  {
   "cell_type": "code",
   "execution_count": 9,
   "id": "96dec40d",
   "metadata": {},
   "outputs": [],
   "source": [
    "arr.fill(5)"
   ]
  },
  {
   "cell_type": "code",
   "execution_count": 10,
   "id": "9fe621f1",
   "metadata": {},
   "outputs": [
    {
     "data": {
      "text/plain": [
       "array([5, 5, 5, 5])"
      ]
     },
     "execution_count": 10,
     "metadata": {},
     "output_type": "execute_result"
    }
   ],
   "source": [
    "arr"
   ]
  },
  {
   "cell_type": "code",
   "execution_count": 13,
   "id": "7576633b",
   "metadata": {},
   "outputs": [
    {
     "data": {
      "text/plain": [
       "array([ 7,  9, 11, 14])"
      ]
     },
     "execution_count": 13,
     "metadata": {},
     "output_type": "execute_result"
    }
   ],
   "source": [
    "arr=np.array([1,2,3,5])\n",
    "arr1=np.array([6,7,8,9])\n",
    "\n",
    "arr+arr1"
   ]
  },
  {
   "cell_type": "code",
   "execution_count": 16,
   "id": "340e824c",
   "metadata": {},
   "outputs": [
    {
     "data": {
      "text/plain": [
       "array([[ 7,  9],\n",
       "       [11, 14]])"
      ]
     },
     "execution_count": 16,
     "metadata": {},
     "output_type": "execute_result"
    }
   ],
   "source": [
    "arr.reshape(2,2)+arr1.reshape(2,2)"
   ]
  },
  {
   "cell_type": "code",
   "execution_count": 17,
   "id": "ef6053b7",
   "metadata": {},
   "outputs": [
    {
     "data": {
      "text/plain": [
       "array([[ 1,  2,  3,  4,  5],\n",
       "       [ 6,  7,  8,  9, 10]])"
      ]
     },
     "execution_count": 17,
     "metadata": {},
     "output_type": "execute_result"
    }
   ],
   "source": [
    "arr=np.array([[1,2,3,4,5],[6,7,8,9,10]])\n",
    "arr"
   ]
  },
  {
   "cell_type": "code",
   "execution_count": 18,
   "id": "1ff31df9",
   "metadata": {},
   "outputs": [
    {
     "data": {
      "text/plain": [
       "array([[1, 2, 3, 4, 5]])"
      ]
     },
     "execution_count": 18,
     "metadata": {},
     "output_type": "execute_result"
    }
   ],
   "source": [
    "arr[0:1]"
   ]
  },
  {
   "cell_type": "code",
   "execution_count": 22,
   "id": "09513d19",
   "metadata": {},
   "outputs": [
    {
     "data": {
      "text/plain": [
       "array([[ 6,  7,  8,  9, 10]])"
      ]
     },
     "execution_count": 22,
     "metadata": {},
     "output_type": "execute_result"
    }
   ],
   "source": [
    "arr[1:2] "
   ]
  },
  {
   "cell_type": "code",
   "execution_count": 24,
   "id": "4b02c955",
   "metadata": {},
   "outputs": [
    {
     "data": {
      "text/plain": [
       "array([[[1, 2, 3],\n",
       "        [4, 5, 6],\n",
       "        [7, 8, 9]]])"
      ]
     },
     "execution_count": 24,
     "metadata": {},
     "output_type": "execute_result"
    }
   ],
   "source": [
    "# 3D \n",
    "f=np.array([[[1,2,3],[4,5,6],[7,8,9]]])\n",
    "f"
   ]
  },
  {
   "cell_type": "code",
   "execution_count": 25,
   "id": "69877e6d",
   "metadata": {},
   "outputs": [
    {
     "data": {
      "text/plain": [
       "3"
      ]
     },
     "execution_count": 25,
     "metadata": {},
     "output_type": "execute_result"
    }
   ],
   "source": [
    "f.ndim"
   ]
  },
  {
   "cell_type": "code",
   "execution_count": 33,
   "id": "877a762f",
   "metadata": {},
   "outputs": [
    {
     "data": {
      "text/plain": [
       "array([1, 2, 3])"
      ]
     },
     "execution_count": 33,
     "metadata": {},
     "output_type": "execute_result"
    }
   ],
   "source": [
    "f[0,0] # row and column"
   ]
  },
  {
   "cell_type": "code",
   "execution_count": 34,
   "id": "a34725b4",
   "metadata": {},
   "outputs": [],
   "source": [
    "arr=np.array([[[1,2,3],[4,5,6]],[[7,8,9],[10,11,12]]])"
   ]
  },
  {
   "cell_type": "code",
   "execution_count": 35,
   "id": "c43b0d47",
   "metadata": {},
   "outputs": [
    {
     "data": {
      "text/plain": [
       "array([[[ 1,  2,  3],\n",
       "        [ 4,  5,  6]],\n",
       "\n",
       "       [[ 7,  8,  9],\n",
       "        [10, 11, 12]]])"
      ]
     },
     "execution_count": 35,
     "metadata": {},
     "output_type": "execute_result"
    }
   ],
   "source": [
    "arr"
   ]
  },
  {
   "cell_type": "code",
   "execution_count": 36,
   "id": "4dee8fa2",
   "metadata": {},
   "outputs": [
    {
     "data": {
      "text/plain": [
       "3"
      ]
     },
     "execution_count": 36,
     "metadata": {},
     "output_type": "execute_result"
    }
   ],
   "source": [
    "arr.ndim"
   ]
  },
  {
   "cell_type": "code",
   "execution_count": 43,
   "id": "72d7608f",
   "metadata": {},
   "outputs": [
    {
     "data": {
      "text/plain": [
       "2"
      ]
     },
     "execution_count": 43,
     "metadata": {},
     "output_type": "execute_result"
    }
   ],
   "source": [
    "arr[0,0,1] # matrix, row, then index "
   ]
  },
  {
   "cell_type": "code",
   "execution_count": 44,
   "id": "3c2ffc8a",
   "metadata": {},
   "outputs": [
    {
     "data": {
      "text/plain": [
       "array([1, 2, 3])"
      ]
     },
     "execution_count": 44,
     "metadata": {},
     "output_type": "execute_result"
    }
   ],
   "source": [
    "arr[0,0,0:] # matrix, row, then index"
   ]
  },
  {
   "cell_type": "code",
   "execution_count": 49,
   "id": "690ff200",
   "metadata": {},
   "outputs": [
    {
     "data": {
      "text/plain": [
       "array([ 7, 10])"
      ]
     },
     "execution_count": 49,
     "metadata": {},
     "output_type": "execute_result"
    }
   ],
   "source": [
    "arr[1,0:,0]"
   ]
  },
  {
   "cell_type": "markdown",
   "id": "83717f32",
   "metadata": {},
   "source": [
    "## 1D"
   ]
  },
  {
   "cell_type": "code",
   "execution_count": 54,
   "id": "517eb34f",
   "metadata": {},
   "outputs": [
    {
     "name": "stdout",
     "output_type": "stream",
     "text": [
      "Shape:  (4,) \n",
      "Dimension 1\n"
     ]
    }
   ],
   "source": [
    "## Array Dimension\n",
    "\n",
    "a=np.array([1,2,3,4])\n",
    "print(\"Shape: \",a.shape,\"\\nDimension\",a.ndim)"
   ]
  },
  {
   "cell_type": "markdown",
   "id": "e9b62be0",
   "metadata": {},
   "source": [
    "# 2D "
   ]
  },
  {
   "cell_type": "code",
   "execution_count": 56,
   "id": "02b0ee4a",
   "metadata": {},
   "outputs": [
    {
     "name": "stdout",
     "output_type": "stream",
     "text": [
      "Shape:  (2, 4) \n",
      "Dimension 2\n"
     ]
    }
   ],
   "source": [
    "b=np.array([[1,2,3,4],[5,6,7,8]])\n",
    "print(\"Shape: \",b.shape,\"\\nDimension\",b.ndim)"
   ]
  },
  {
   "cell_type": "code",
   "execution_count": 57,
   "id": "f43c6feb",
   "metadata": {},
   "outputs": [
    {
     "name": "stdout",
     "output_type": "stream",
     "text": [
      "Shape:  (3, 4) \n",
      "Dimension 2\n"
     ]
    }
   ],
   "source": [
    "c=np.array([[12,13,14,15],[16,17,18,19],[19,20,21,23]])\n",
    "print(\"Shape: \",c.shape,\"\\nDimension\",c.ndim)"
   ]
  },
  {
   "cell_type": "markdown",
   "id": "20b160b1",
   "metadata": {},
   "source": [
    "# 3rd  Dimension"
   ]
  },
  {
   "cell_type": "code",
   "execution_count": 58,
   "id": "73460aaf",
   "metadata": {},
   "outputs": [
    {
     "name": "stdout",
     "output_type": "stream",
     "text": [
      "Shape:  (3, 1, 4) \n",
      "Dimension 3\n"
     ]
    }
   ],
   "source": [
    "d=np.array([[[14,15,16,17]],[[18,19,20,21]],[[22,23,24,25]]])\n",
    "print(\"Shape: \",d.shape,\"\\nDimension\",d.ndim)"
   ]
  },
  {
   "cell_type": "markdown",
   "id": "664eca87",
   "metadata": {},
   "source": [
    "******"
   ]
  },
  {
   "cell_type": "code",
   "execution_count": 60,
   "id": "69aa7163",
   "metadata": {},
   "outputs": [
    {
     "name": "stdout",
     "output_type": "stream",
     "text": [
      "5\n",
      "0\n"
     ]
    }
   ],
   "source": [
    "a=np.array(5) # minimum 1 col is required to make it 1D\n",
    "print(a) # print a \n",
    "print(a.ndim) # dimension"
   ]
  },
  {
   "cell_type": "code",
   "execution_count": 62,
   "id": "38f85752",
   "metadata": {},
   "outputs": [
    {
     "name": "stdout",
     "output_type": "stream",
     "text": [
      "Shape:  (2, 3) \n",
      "Dimension 2\n"
     ]
    }
   ],
   "source": [
    "a=np.random.rand(2,3)\n",
    "print(\"Shape: \",a.shape,\"\\nDimension\",a.ndim)"
   ]
  },
  {
   "cell_type": "code",
   "execution_count": 64,
   "id": "3aea2920",
   "metadata": {},
   "outputs": [
    {
     "name": "stdout",
     "output_type": "stream",
     "text": [
      "Shape:  (2, 3, 2) \n",
      "Dimension 3\n"
     ]
    }
   ],
   "source": [
    "a=np.random.rand(2,3,2)\n",
    "print(\"Shape: \",a.shape,\"\\nDimension\",a.ndim)"
   ]
  },
  {
   "cell_type": "code",
   "execution_count": 65,
   "id": "51e02789",
   "metadata": {},
   "outputs": [
    {
     "data": {
      "text/plain": [
       "array([[[0.46626586, 0.89066885],\n",
       "        [0.17645444, 0.98478683],\n",
       "        [0.97461441, 0.11215467]],\n",
       "\n",
       "       [[0.5645213 , 0.08359164],\n",
       "        [0.64127181, 0.62183502],\n",
       "        [0.08090973, 0.79773903]]])"
      ]
     },
     "execution_count": 65,
     "metadata": {},
     "output_type": "execute_result"
    }
   ],
   "source": [
    "a"
   ]
  },
  {
   "cell_type": "code",
   "execution_count": 67,
   "id": "cda88c91",
   "metadata": {},
   "outputs": [
    {
     "data": {
      "text/plain": [
       "array([[0.46626586, 0.89066885, 0.17645444, 0.98478683],\n",
       "       [0.97461441, 0.11215467, 0.5645213 , 0.08359164],\n",
       "       [0.64127181, 0.62183502, 0.08090973, 0.79773903]])"
      ]
     },
     "execution_count": 67,
     "metadata": {},
     "output_type": "execute_result"
    }
   ],
   "source": [
    "a.reshape(3,4)"
   ]
  },
  {
   "cell_type": "code",
   "execution_count": 68,
   "id": "01b99032",
   "metadata": {},
   "outputs": [
    {
     "data": {
      "text/plain": [
       "array([[0.13194874, 0.41771454, 0.02186055, 0.91645776, 0.06487346],\n",
       "       [0.16382824, 0.01215438, 0.28155086, 0.00739304, 0.81837473],\n",
       "       [0.95709464, 0.01278603, 0.50428649, 0.70668182, 0.57697512],\n",
       "       [0.03017909, 0.17612022, 0.77456294, 0.00244407, 0.59525057]])"
      ]
     },
     "execution_count": 68,
     "metadata": {},
     "output_type": "execute_result"
    }
   ],
   "source": [
    "np.random.rand(4,5)"
   ]
  },
  {
   "cell_type": "code",
   "execution_count": 70,
   "id": "b722a8e3",
   "metadata": {},
   "outputs": [
    {
     "data": {
      "text/plain": [
       "2"
      ]
     },
     "execution_count": 70,
     "metadata": {},
     "output_type": "execute_result"
    }
   ],
   "source": [
    "np.random.randint(1,5) # genrate auto number between 1 to 5"
   ]
  },
  {
   "cell_type": "code",
   "execution_count": 71,
   "id": "38052b8e",
   "metadata": {},
   "outputs": [
    {
     "data": {
      "text/plain": [
       "array([[0.23468873, 0.29394372, 0.63986865, 0.66651302, 0.50129446],\n",
       "       [0.90110081, 0.90739244, 0.52219977, 0.35085203, 0.92822973],\n",
       "       [0.77337863, 0.80448341, 0.26010504, 0.18798214, 0.52304111],\n",
       "       [0.60811029, 0.90718527, 0.39937236, 0.95339918, 0.49932821]])"
      ]
     },
     "execution_count": 71,
     "metadata": {},
     "output_type": "execute_result"
    }
   ],
   "source": [
    "np.random.rand(4,5)"
   ]
  },
  {
   "cell_type": "markdown",
   "id": "c0e90e28",
   "metadata": {},
   "source": [
    "## Slicing"
   ]
  },
  {
   "cell_type": "code",
   "execution_count": 1,
   "id": "2a0baa60",
   "metadata": {},
   "outputs": [],
   "source": [
    "import numpy as np"
   ]
  },
  {
   "cell_type": "code",
   "execution_count": 2,
   "id": "8b6c61f9",
   "metadata": {},
   "outputs": [
    {
     "data": {
      "text/plain": [
       "12"
      ]
     },
     "execution_count": 2,
     "metadata": {},
     "output_type": "execute_result"
    }
   ],
   "source": [
    "a=np.arange(0,12)\n",
    "len(a)"
   ]
  },
  {
   "cell_type": "code",
   "execution_count": 3,
   "id": "1f428da1",
   "metadata": {},
   "outputs": [
    {
     "data": {
      "text/plain": [
       "array([[ 0,  1,  2,  3],\n",
       "       [ 4,  5,  6,  7],\n",
       "       [ 8,  9, 10, 11]])"
      ]
     },
     "execution_count": 3,
     "metadata": {},
     "output_type": "execute_result"
    }
   ],
   "source": [
    "f=a.reshape(3,4)\n",
    "f"
   ]
  },
  {
   "cell_type": "code",
   "execution_count": 22,
   "id": "a28c8337",
   "metadata": {},
   "outputs": [
    {
     "data": {
      "text/plain": [
       "(3, 4)"
      ]
     },
     "execution_count": 22,
     "metadata": {},
     "output_type": "execute_result"
    }
   ],
   "source": [
    "f.shape"
   ]
  },
  {
   "cell_type": "code",
   "execution_count": 24,
   "id": "9c64f462",
   "metadata": {},
   "outputs": [
    {
     "data": {
      "text/plain": [
       "2"
      ]
     },
     "execution_count": 24,
     "metadata": {},
     "output_type": "execute_result"
    }
   ],
   "source": [
    "f.ndim"
   ]
  },
  {
   "cell_type": "markdown",
   "id": "83e57d4e",
   "metadata": {},
   "source": [
    "## 1D Array"
   ]
  },
  {
   "cell_type": "code",
   "execution_count": 4,
   "id": "015b831c",
   "metadata": {},
   "outputs": [
    {
     "data": {
      "text/plain": [
       "array([ 0,  1,  2,  3,  4,  5,  6,  7,  8,  9, 10, 11])"
      ]
     },
     "execution_count": 4,
     "metadata": {},
     "output_type": "execute_result"
    }
   ],
   "source": [
    "g=np.ravel(f)\n",
    "g"
   ]
  },
  {
   "cell_type": "code",
   "execution_count": 25,
   "id": "08840c8f",
   "metadata": {},
   "outputs": [
    {
     "name": "stdout",
     "output_type": "stream",
     "text": [
      "1\n",
      "12\n"
     ]
    }
   ],
   "source": [
    "print(g.ndim)\n",
    "print(g.size)"
   ]
  },
  {
   "cell_type": "code",
   "execution_count": 5,
   "id": "9cf0aa20",
   "metadata": {},
   "outputs": [
    {
     "data": {
      "text/plain": [
       "array([0, 1, 2, 3, 4])"
      ]
     },
     "execution_count": 5,
     "metadata": {},
     "output_type": "execute_result"
    }
   ],
   "source": [
    "g[0:5] # start index:stop index"
   ]
  },
  {
   "cell_type": "code",
   "execution_count": 6,
   "id": "f0c78e90",
   "metadata": {},
   "outputs": [
    {
     "data": {
      "text/plain": [
       "array([4, 5, 6])"
      ]
     },
     "execution_count": 6,
     "metadata": {},
     "output_type": "execute_result"
    }
   ],
   "source": [
    "g[4:7] # start index : stop index{EXCLUDED}"
   ]
  },
  {
   "cell_type": "code",
   "execution_count": 7,
   "id": "2c4c15f9",
   "metadata": {},
   "outputs": [
    {
     "data": {
      "text/plain": [
       "array([0, 1, 2, 3])"
      ]
     },
     "execution_count": 7,
     "metadata": {},
     "output_type": "execute_result"
    }
   ],
   "source": [
    "g[:4]"
   ]
  },
  {
   "cell_type": "markdown",
   "id": "e8761266",
   "metadata": {},
   "source": [
    "## 2D Array"
   ]
  },
  {
   "cell_type": "code",
   "execution_count": 8,
   "id": "91cfebb6",
   "metadata": {},
   "outputs": [
    {
     "data": {
      "text/plain": [
       "array([[1, 2, 3, 5],\n",
       "       [6, 7, 8, 9]])"
      ]
     },
     "execution_count": 8,
     "metadata": {},
     "output_type": "execute_result"
    }
   ],
   "source": [
    "a2=np.array([[1,2,3,5],[6,7,8,9]])\n",
    "a2"
   ]
  },
  {
   "cell_type": "code",
   "execution_count": 12,
   "id": "9a33a84b",
   "metadata": {},
   "outputs": [
    {
     "name": "stdout",
     "output_type": "stream",
     "text": [
      "SHAPE : (2, 4) SIZE:  8\n"
     ]
    }
   ],
   "source": [
    "print(\"SHAPE :\",a2.shape,\"SIZE: \",a2.size)"
   ]
  },
  {
   "cell_type": "code",
   "execution_count": 27,
   "id": "b9d66381",
   "metadata": {},
   "outputs": [
    {
     "name": "stdout",
     "output_type": "stream",
     "text": [
      "Dimension : 2\n"
     ]
    }
   ],
   "source": [
    "print(\"Dimension :\",a2.ndim)"
   ]
  },
  {
   "cell_type": "code",
   "execution_count": 17,
   "id": "254dd2af",
   "metadata": {},
   "outputs": [
    {
     "name": "stdout",
     "output_type": "stream",
     "text": [
      " [2 3 5]\n",
      "\n",
      " [7 8 9]\n"
     ]
    }
   ],
   "source": [
    "print(\"\",a2[0,1:4] )\n",
    "print(\"\\n\",a2[1,1:4])"
   ]
  },
  {
   "cell_type": "code",
   "execution_count": 19,
   "id": "3052c92b",
   "metadata": {},
   "outputs": [
    {
     "data": {
      "text/plain": [
       "array([3, 8])"
      ]
     },
     "execution_count": 19,
     "metadata": {},
     "output_type": "execute_result"
    }
   ],
   "source": [
    "a2[0:2,2] # row 0 to 1: select 2nd element"
   ]
  },
  {
   "cell_type": "code",
   "execution_count": 20,
   "id": "550cdabb",
   "metadata": {},
   "outputs": [
    {
     "data": {
      "text/plain": [
       "array([[2, 3, 5],\n",
       "       [7, 8, 9]])"
      ]
     },
     "execution_count": 20,
     "metadata": {},
     "output_type": "execute_result"
    }
   ],
   "source": [
    "a2[0:2,1:4] # row 0 to 1 : select 1 to 4 elements from row 1 to 4"
   ]
  },
  {
   "cell_type": "markdown",
   "id": "2b80ed50",
   "metadata": {},
   "source": [
    "## 3D Array"
   ]
  },
  {
   "cell_type": "code",
   "execution_count": 30,
   "id": "435a24bb",
   "metadata": {},
   "outputs": [
    {
     "data": {
      "text/plain": [
       "3"
      ]
     },
     "execution_count": 30,
     "metadata": {},
     "output_type": "execute_result"
    }
   ],
   "source": [
    "a3=np.array([[[1,2,3]],[[4,5,6]],[[7,8,9]]])\n",
    "\n",
    "a3.ndim"
   ]
  },
  {
   "cell_type": "code",
   "execution_count": 33,
   "id": "02e23ab3",
   "metadata": {},
   "outputs": [
    {
     "data": {
      "text/plain": [
       "3"
      ]
     },
     "execution_count": 33,
     "metadata": {},
     "output_type": "execute_result"
    }
   ],
   "source": [
    "# big 3 Dimension\n",
    "a4=np.array([[[1,2,3],[4,5,6],[7,8,9]],\n",
    "             [[10,11,12],[13,14,15],[16,17,18]],\n",
    "            [[19,20,21],[22,23,24],[25,26,27]]])\n",
    "a4.ndim"
   ]
  },
  {
   "cell_type": "code",
   "execution_count": 39,
   "id": "04192705",
   "metadata": {},
   "outputs": [
    {
     "data": {
      "text/plain": [
       "array([[[ 1,  2,  3],\n",
       "        [ 4,  5,  6],\n",
       "        [ 7,  8,  9]],\n",
       "\n",
       "       [[10, 11, 12],\n",
       "        [13, 14, 15],\n",
       "        [16, 17, 18]],\n",
       "\n",
       "       [[19, 20, 21],\n",
       "        [22, 23, 24],\n",
       "        [25, 26, 27]]])"
      ]
     },
     "execution_count": 39,
     "metadata": {},
     "output_type": "execute_result"
    }
   ],
   "source": [
    "a4"
   ]
  },
  {
   "cell_type": "code",
   "execution_count": 40,
   "id": "456c10ca",
   "metadata": {},
   "outputs": [
    {
     "name": "stdout",
     "output_type": "stream",
     "text": [
      "[[[ 4  5]\n",
      "  [ 7  8]]\n",
      "\n",
      " [[13 14]\n",
      "  [16 17]]\n",
      "\n",
      " [[22 23]\n",
      "  [25 26]]]\n"
     ]
    },
    {
     "data": {
      "text/plain": [
       "' Select matrix, select row , select column'"
      ]
     },
     "execution_count": 40,
     "metadata": {},
     "output_type": "execute_result"
    }
   ],
   "source": [
    "print(a4[:3,1:4,:2]) #[matrix:row:column]\n",
    "\n",
    "\n",
    "\"\"\" Select matrix, select row , select column\"\"\""
   ]
  },
  {
   "cell_type": "code",
   "execution_count": 41,
   "id": "3ebd6491",
   "metadata": {},
   "outputs": [
    {
     "data": {
      "text/plain": [
       "(3, 3, 3)"
      ]
     },
     "execution_count": 41,
     "metadata": {},
     "output_type": "execute_result"
    }
   ],
   "source": [
    "a4.shape"
   ]
  },
  {
   "cell_type": "code",
   "execution_count": 42,
   "id": "62982ee2",
   "metadata": {},
   "outputs": [
    {
     "data": {
      "text/plain": [
       "27"
      ]
     },
     "execution_count": 42,
     "metadata": {},
     "output_type": "execute_result"
    }
   ],
   "source": [
    "a4.size"
   ]
  },
  {
   "cell_type": "markdown",
   "id": "c7f9e3c0",
   "metadata": {},
   "source": [
    "# View vs Copy\n",
    "-------------------------\n",
    "\n",
    "1. \"COPY Array\" : It will not affect the original copy,Any Changes made to the it will not be affected.\n",
    "2. \"VIEW Array\" : Any Changes made to the view will affect the original Copy"
   ]
  },
  {
   "cell_type": "code",
   "execution_count": 59,
   "id": "7fd06c84",
   "metadata": {},
   "outputs": [
    {
     "data": {
      "text/plain": [
       "array([[0, 1, 2, 3]])"
      ]
     },
     "execution_count": 59,
     "metadata": {},
     "output_type": "execute_result"
    }
   ],
   "source": [
    "arr=np.arange(0,4).reshape(1,4)\n",
    "arr"
   ]
  },
  {
   "cell_type": "markdown",
   "id": "8058d97b",
   "metadata": {},
   "source": [
    "### COPY METHOD\n",
    "\n",
    "- It wont affect the Main Array"
   ]
  },
  {
   "cell_type": "code",
   "execution_count": 49,
   "id": "ebec8a7c",
   "metadata": {},
   "outputs": [
    {
     "data": {
      "text/plain": [
       "array([[0, 1, 2, 3, 4]])"
      ]
     },
     "execution_count": 49,
     "metadata": {},
     "output_type": "execute_result"
    }
   ],
   "source": [
    "cop=np.copy(arr)\n",
    "cop"
   ]
  },
  {
   "cell_type": "code",
   "execution_count": 60,
   "id": "f1d5c7cf",
   "metadata": {},
   "outputs": [
    {
     "data": {
      "text/plain": [
       "2"
      ]
     },
     "execution_count": 60,
     "metadata": {},
     "output_type": "execute_result"
    }
   ],
   "source": [
    "arr.ndim"
   ]
  },
  {
   "cell_type": "code",
   "execution_count": 63,
   "id": "30097037",
   "metadata": {},
   "outputs": [
    {
     "name": "stdout",
     "output_type": "stream",
     "text": [
      "[[42  1  2  3]]\n",
      "[[0 1 2 3]]\n"
     ]
    }
   ],
   "source": [
    "copy=arr.copy()\n",
    "copy[0,:1]=42\n",
    "\n",
    "print(copy)\n",
    "print(arr)"
   ]
  },
  {
   "cell_type": "code",
   "execution_count": 61,
   "id": "d81f79d4",
   "metadata": {},
   "outputs": [
    {
     "data": {
      "text/plain": [
       "1"
      ]
     },
     "execution_count": 61,
     "metadata": {},
     "output_type": "execute_result"
    }
   ],
   "source": [
    "arr1=np.array([1,2,4,5,6,7])\n",
    "arr1.ndim"
   ]
  },
  {
   "cell_type": "code",
   "execution_count": 64,
   "id": "233cf073",
   "metadata": {},
   "outputs": [
    {
     "name": "stdout",
     "output_type": "stream",
     "text": [
      "[21  2  4  5  6  7]\n"
     ]
    }
   ],
   "source": [
    "copy1=arr1.copy()\n",
    "copy1[0]=21\n",
    "\n",
    "print(copy1)"
   ]
  },
  {
   "cell_type": "markdown",
   "id": "1fbe3de4",
   "metadata": {},
   "source": [
    "#### VIEW will affect  the original Array"
   ]
  },
  {
   "cell_type": "code",
   "execution_count": 65,
   "id": "2cb67c95",
   "metadata": {},
   "outputs": [
    {
     "name": "stdout",
     "output_type": "stream",
     "text": [
      "[[45  1  2  3]]\n",
      "[[45  1  2  3]]\n"
     ]
    }
   ],
   "source": [
    "view=arr.view()\n",
    "view[0,:1]=45\n",
    "\n",
    "print(arr)\n",
    "print(view)"
   ]
  },
  {
   "cell_type": "markdown",
   "id": "f8b3e0bd",
   "metadata": {},
   "source": [
    "### APPEND, INSERT, DELETE"
   ]
  },
  {
   "cell_type": "code",
   "execution_count": 1,
   "id": "cac88eb3",
   "metadata": {},
   "outputs": [],
   "source": [
    "import numpy as np"
   ]
  },
  {
   "cell_type": "code",
   "execution_count": 2,
   "id": "5b69b9a5",
   "metadata": {},
   "outputs": [
    {
     "name": "stdout",
     "output_type": "stream",
     "text": [
      "(2, 3)\n",
      "6\n",
      "2\n"
     ]
    }
   ],
   "source": [
    "a=np.array([[1,2,3],\n",
    "            [11,12,13]])\n",
    "a\n",
    "print(a.shape)\n",
    "print(a.size)\n",
    "print(a.ndim)"
   ]
  },
  {
   "cell_type": "markdown",
   "id": "db4a3442",
   "metadata": {},
   "source": [
    "### APPEND"
   ]
  },
  {
   "cell_type": "code",
   "execution_count": 3,
   "id": "8a38a3a9",
   "metadata": {},
   "outputs": [
    {
     "data": {
      "text/plain": [
       "array([[ 1,  2,  3],\n",
       "       [11, 12, 13],\n",
       "       [21, 22, 23]])"
      ]
     },
     "execution_count": 3,
     "metadata": {},
     "output_type": "execute_result"
    }
   ],
   "source": [
    "# axis=0 is by rows\n",
    "\n",
    "np.append(a,[[21,22,23]],axis=0)"
   ]
  },
  {
   "cell_type": "code",
   "execution_count": 4,
   "id": "29128224",
   "metadata": {},
   "outputs": [
    {
     "data": {
      "text/plain": [
       "array([ 1,  2,  3, 11, 12, 13, 21, 22, 23])"
      ]
     },
     "execution_count": 4,
     "metadata": {},
     "output_type": "execute_result"
    }
   ],
   "source": [
    "# Haven't udated any axis\n",
    "\n",
    "np.append(a,[21,22,23])"
   ]
  },
  {
   "cell_type": "code",
   "execution_count": 5,
   "id": "732cc429",
   "metadata": {},
   "outputs": [
    {
     "data": {
      "text/plain": [
       "array([[ 1,  2,  3,  5],\n",
       "       [11, 12, 13,  8]])"
      ]
     },
     "execution_count": 5,
     "metadata": {},
     "output_type": "execute_result"
    }
   ],
   "source": [
    "# Have updated axis \n",
    "\n",
    "np.append(a,[[5],[8]],axis=1) # by column"
   ]
  },
  {
   "cell_type": "markdown",
   "id": "afeeba7e",
   "metadata": {},
   "source": [
    "### INSERT"
   ]
  },
  {
   "cell_type": "code",
   "execution_count": 12,
   "id": "3cc4f5a6",
   "metadata": {},
   "outputs": [
    {
     "data": {
      "text/plain": [
       "array([[0.59565425, 0.2043335 , 0.03544993, 0.68621794],\n",
       "       [0.48869083, 0.00119823, 0.08346111, 0.30588635],\n",
       "       [0.29982344, 0.77520821, 0.38913263, 0.32365988]])"
      ]
     },
     "execution_count": 12,
     "metadata": {},
     "output_type": "execute_result"
    }
   ],
   "source": [
    "test=np.random.rand(3,4)\n",
    "test"
   ]
  },
  {
   "cell_type": "code",
   "execution_count": 24,
   "id": "d91fbbfa",
   "metadata": {},
   "outputs": [
    {
     "data": {
      "text/plain": [
       "array([[0.2043335 , 0.03544993],\n",
       "       [0.00119823, 0.08346111],\n",
       "       [0.77520821, 0.38913263]])"
      ]
     },
     "execution_count": 24,
     "metadata": {},
     "output_type": "execute_result"
    }
   ],
   "source": [
    "g=test[0:3,1:3]\n",
    "g"
   ]
  },
  {
   "cell_type": "code",
   "execution_count": 27,
   "id": "e4e2dbd1",
   "metadata": {},
   "outputs": [
    {
     "data": {
      "text/plain": [
       "2"
      ]
     },
     "execution_count": 27,
     "metadata": {},
     "output_type": "execute_result"
    }
   ],
   "source": [
    "g.ndim"
   ]
  },
  {
   "cell_type": "code",
   "execution_count": 28,
   "id": "7e60dad3",
   "metadata": {},
   "outputs": [
    {
     "data": {
      "text/plain": [
       "array([1, 2, 3])"
      ]
     },
     "execution_count": 28,
     "metadata": {},
     "output_type": "execute_result"
    }
   ],
   "source": [
    "a=np.array([1,2,3])\n",
    "a"
   ]
  },
  {
   "cell_type": "code",
   "execution_count": 33,
   "id": "3dc703c7",
   "metadata": {},
   "outputs": [
    {
     "data": {
      "text/plain": [
       "array([1, 2, 3, 4])"
      ]
     },
     "execution_count": 33,
     "metadata": {},
     "output_type": "execute_result"
    }
   ],
   "source": [
    "np.insert(a,3,[4])"
   ]
  },
  {
   "cell_type": "code",
   "execution_count": 36,
   "id": "f4b0d3e6",
   "metadata": {},
   "outputs": [
    {
     "data": {
      "text/plain": [
       "array([[1, 2, 3],\n",
       "       [4, 5, 6],\n",
       "       [7, 8, 9]])"
      ]
     },
     "execution_count": 36,
     "metadata": {},
     "output_type": "execute_result"
    }
   ],
   "source": [
    "a1=np.arange(1,10).reshape(3,3)\n",
    "a1"
   ]
  },
  {
   "cell_type": "code",
   "execution_count": 37,
   "id": "7a246950",
   "metadata": {},
   "outputs": [
    {
     "data": {
      "text/plain": [
       "array([[ 1,  2,  3],\n",
       "       [ 4,  5,  6],\n",
       "       [11, 12, 13],\n",
       "       [ 7,  8,  9]])"
      ]
     },
     "execution_count": 37,
     "metadata": {},
     "output_type": "execute_result"
    }
   ],
   "source": [
    "np.insert(a1,2,[11,12,13],axis=0)"
   ]
  },
  {
   "cell_type": "code",
   "execution_count": 38,
   "id": "546e8caa",
   "metadata": {},
   "outputs": [
    {
     "data": {
      "text/plain": [
       "array([[ 1,  2,  3, 11],\n",
       "       [ 4,  5,  6, 12],\n",
       "       [ 7,  8,  9, 13]])"
      ]
     },
     "execution_count": 38,
     "metadata": {},
     "output_type": "execute_result"
    }
   ],
   "source": [
    "np.insert (a1,3,[11,12,13],axis=1)"
   ]
  },
  {
   "cell_type": "code",
   "execution_count": 39,
   "id": "0ab2e9a8",
   "metadata": {},
   "outputs": [
    {
     "data": {
      "text/plain": [
       "array([ 1,  2,  3, 11, 12, 13,  4,  5,  6,  7,  8,  9])"
      ]
     },
     "execution_count": 39,
     "metadata": {},
     "output_type": "execute_result"
    }
   ],
   "source": [
    "np.insert(a1,3,[11,12,13])"
   ]
  },
  {
   "cell_type": "markdown",
   "id": "6edabd89",
   "metadata": {},
   "source": [
    "### Delete Method"
   ]
  },
  {
   "cell_type": "code",
   "execution_count": 40,
   "id": "943318b8",
   "metadata": {},
   "outputs": [
    {
     "data": {
      "text/plain": [
       "array([[0, 1, 2],\n",
       "       [3, 4, 5],\n",
       "       [6, 7, 8]])"
      ]
     },
     "execution_count": 40,
     "metadata": {},
     "output_type": "execute_result"
    }
   ],
   "source": [
    "a3=np.arange(0,9).reshape(3,3)\n",
    "a3"
   ]
  },
  {
   "cell_type": "code",
   "execution_count": 41,
   "id": "155942aa",
   "metadata": {},
   "outputs": [
    {
     "data": {
      "text/plain": [
       "array([1, 2, 3, 4, 5, 6, 7, 8])"
      ]
     },
     "execution_count": 41,
     "metadata": {},
     "output_type": "execute_result"
    }
   ],
   "source": [
    "np.delete(a3,0)"
   ]
  },
  {
   "cell_type": "code",
   "execution_count": 42,
   "id": "4bb5e53a",
   "metadata": {},
   "outputs": [
    {
     "data": {
      "text/plain": [
       "array([[0, 2],\n",
       "       [3, 5],\n",
       "       [6, 8]])"
      ]
     },
     "execution_count": 42,
     "metadata": {},
     "output_type": "execute_result"
    }
   ],
   "source": [
    "np.delete(a3,1,axis=1) # axis=1 by column"
   ]
  },
  {
   "cell_type": "code",
   "execution_count": 43,
   "id": "ab3325fc",
   "metadata": {},
   "outputs": [
    {
     "data": {
      "text/plain": [
       "array([[3, 4, 5],\n",
       "       [6, 7, 8]])"
      ]
     },
     "execution_count": 43,
     "metadata": {},
     "output_type": "execute_result"
    }
   ],
   "source": [
    "np.delete(a3,0,axis=0) # axis=0 by rows"
   ]
  },
  {
   "cell_type": "code",
   "execution_count": 47,
   "id": "d3b0c522",
   "metadata": {},
   "outputs": [
    {
     "data": {
      "text/plain": [
       "array([0, 1, 2, 4, 5, 6, 7, 8])"
      ]
     },
     "execution_count": 47,
     "metadata": {},
     "output_type": "execute_result"
    }
   ],
   "source": [
    "np.delete(a3,3) # index 3 got removed "
   ]
  },
  {
   "cell_type": "markdown",
   "id": "5e90a7f5",
   "metadata": {},
   "source": [
    "# Hstack and Vstack\n",
    "----------------\n",
    "\n",
    "1. Hstack to join Horizontally\n",
    "2. Vstack to join Vertically"
   ]
  },
  {
   "cell_type": "code",
   "execution_count": 54,
   "id": "25591872",
   "metadata": {},
   "outputs": [
    {
     "name": "stdout",
     "output_type": "stream",
     "text": [
      "[1 2 3 4 5 6]\n",
      "Dimension:  1\n"
     ]
    }
   ],
   "source": [
    "a=np.array([1,2,3])\n",
    "b=np.array([4,5,6])\n",
    "\n",
    "\n",
    "# Horizontally\n",
    "result= np.hstack((a,b))\n",
    "print(result)\n",
    "print(\"Dimension: \",result.ndim)"
   ]
  },
  {
   "cell_type": "code",
   "execution_count": 55,
   "id": "9f7dcd2a",
   "metadata": {},
   "outputs": [
    {
     "name": "stdout",
     "output_type": "stream",
     "text": [
      "Vertically\n",
      "[[1 2 3]\n",
      " [4 5 6]]\n",
      "Dimension:  2\n"
     ]
    }
   ],
   "source": [
    "# Performing Vstack\n",
    "result=np.vstack((a,b))\n",
    "\n",
    "print(\"Vertically\")\n",
    "print(result)\n",
    "print(\"Dimension: \",result.ndim)"
   ]
  },
  {
   "cell_type": "markdown",
   "id": "89e7930f",
   "metadata": {},
   "source": [
    "# Numpy Concatenation"
   ]
  },
  {
   "cell_type": "code",
   "execution_count": 56,
   "id": "5490c6cf",
   "metadata": {},
   "outputs": [
    {
     "data": {
      "text/plain": [
       "array([[2, 4],\n",
       "       [6, 8]])"
      ]
     },
     "execution_count": 56,
     "metadata": {},
     "output_type": "execute_result"
    }
   ],
   "source": [
    "arr1=np.array([[2,4],[6,8]])\n",
    "arr1"
   ]
  },
  {
   "cell_type": "code",
   "execution_count": 57,
   "id": "beb40287",
   "metadata": {},
   "outputs": [
    {
     "data": {
      "text/plain": [
       "array([[ 9, 10],\n",
       "       [11, 12]])"
      ]
     },
     "execution_count": 57,
     "metadata": {},
     "output_type": "execute_result"
    }
   ],
   "source": [
    "arr2=np.array([[9,10],[11,12]])\n",
    "arr2"
   ]
  },
  {
   "cell_type": "code",
   "execution_count": 59,
   "id": "5a321f36",
   "metadata": {},
   "outputs": [
    {
     "data": {
      "text/plain": [
       "array([[ 2,  4],\n",
       "       [ 6,  8],\n",
       "       [ 9, 10],\n",
       "       [11, 12]])"
      ]
     },
     "execution_count": 59,
     "metadata": {},
     "output_type": "execute_result"
    }
   ],
   "source": [
    "np.concatenate((arr1,arr2),axis=0) # by rows"
   ]
  },
  {
   "cell_type": "code",
   "execution_count": 60,
   "id": "60d14fa7",
   "metadata": {},
   "outputs": [
    {
     "data": {
      "text/plain": [
       "array([[ 2,  4,  9, 10],\n",
       "       [ 6,  8, 11, 12]])"
      ]
     },
     "execution_count": 60,
     "metadata": {},
     "output_type": "execute_result"
    }
   ],
   "source": [
    "np.concatenate((arr1,arr2),axis=1) # by column"
   ]
  },
  {
   "cell_type": "code",
   "execution_count": null,
   "id": "10ddc674",
   "metadata": {},
   "outputs": [],
   "source": []
  }
 ],
 "metadata": {
  "kernelspec": {
   "display_name": "Python 3 (ipykernel)",
   "language": "python",
   "name": "python3"
  },
  "language_info": {
   "codemirror_mode": {
    "name": "ipython",
    "version": 3
   },
   "file_extension": ".py",
   "mimetype": "text/x-python",
   "name": "python",
   "nbconvert_exporter": "python",
   "pygments_lexer": "ipython3",
   "version": "3.11.4"
  }
 },
 "nbformat": 4,
 "nbformat_minor": 5
}
